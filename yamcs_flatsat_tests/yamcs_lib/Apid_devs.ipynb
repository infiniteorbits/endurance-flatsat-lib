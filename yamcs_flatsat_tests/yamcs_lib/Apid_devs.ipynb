{
 "cells": [
  {
   "cell_type": "code",
   "execution_count": 1,
   "metadata": {},
   "outputs": [],
   "source": [
    "from yamcs_flatsat_utils.yamcs_interface import YamcsInterface"
   ]
  },
  {
   "cell_type": "code",
   "execution_count": 2,
   "metadata": {},
   "outputs": [],
   "source": [
    "from yamcs_flatsat_utils.command_processor import CommandProcessor"
   ]
  },
  {
   "cell_type": "markdown",
   "metadata": {},
   "source": [
    "# Test Library"
   ]
  },
  {
   "cell_type": "markdown",
   "metadata": {},
   "source": [
    "## Objectives\n",
    "\n",
    "Test that the ground can send a TC to all computers:\n",
    "    - Active Mission Computer\n",
    "    - Standby Mission Computer\n",
    "    - Active ADCS Computer\n",
    "    - Standby ADCS Computer\n",
    "    - Active GNC Computer\n",
    "    - Standby GNC Computer\n",
    "    - Test that all computers can send a TM (realtime) to the ground.\n",
    "    - Test that all computers can send a TM (deferred) to the ground.\n",
    "    - Test the procedures put in place to send TC / receive TM when there is an issue of known and unknown origins."
   ]
  },
  {
   "cell_type": "code",
   "execution_count": 3,
   "metadata": {},
   "outputs": [
    {
     "name": "stderr",
     "output_type": "stream",
     "text": [
      "/home/romain/Devel/endurance-flatsat-lib/src/yamcs_flatsat_utils/yamcs_interface.py:42: YamcsInterfaceWarning: Creating default Yamcs instance: 'myproject' on host 'localhost:8090' using processor 'realtime'\n",
      "  warnings.warn(\n"
     ]
    }
   ],
   "source": [
    "interface = YamcsInterface()"
   ]
  },
  {
   "cell_type": "code",
   "execution_count": null,
   "metadata": {},
   "outputs": [
    {
     "name": "stdout",
     "output_type": "stream",
     "text": [
      "CCF table already exists: /home/romain/Devel/endurance-flatsat-lib/etc/config/ccf_table_3b78dfb94a62796e93abc943db47c63c04389b2e.dat\n",
      "CDF table already exists: /home/romain/Devel/endurance-flatsat-lib/etc/config/cdf_table_3b78dfb94a62796e93abc943db47c63c04389b2e.dat\n"
     ]
    }
   ],
   "source": [
    "proc = CommandProcessor(interface)"
   ]
  },
  {
   "cell_type": "markdown",
   "metadata": {},
   "source": [
    "## Send TM[20,1]"
   ]
  },
  {
   "cell_type": "code",
   "execution_count": 9,
   "metadata": {},
   "outputs": [
    {
     "name": "stdout",
     "output_type": "stream",
     "text": [
      "Command history update: /TEST/PUS_TC []\n",
      "Command history update: /TEST/PUS_TC []\n",
      "Command history update: /TEST/PUS_TC [Acknowledge_Queued: OK]\n",
      "Command history update: /TEST/PUS_TC [Acknowledge_Queued: OK]\n",
      "Command history update: /TEST/PUS_TC [Acknowledge_Queued: OK, Verifier_Accepted: PENDING]\n",
      "Command history update: /TEST/PUS_TC [Acknowledge_Queued: OK, Verifier_Accepted: PENDING, Verifier_Started: PENDING]\n",
      "Command history update: /TEST/PUS_TC [Acknowledge_Queued: OK, Verifier_Accepted: PENDING, Verifier_Started: PENDING, Verifier_Complete: PENDING]\n",
      "Command history update: /TEST/PUS_TC [Acknowledge_Queued: OK, Verifier_Accepted: PENDING, Verifier_Started: PENDING, Verifier_Complete: PENDING]\n",
      "Command history update: /TEST/PUS_TC [Acknowledge_Queued: OK, Verifier_Accepted: PENDING, Verifier_Started: PENDING, Verifier_Complete: PENDING]\n",
      "Command history update: /TEST/PUS_TC [Acknowledge_Queued: OK, Verifier_Accepted: PENDING, Verifier_Started: PENDING, Verifier_Complete: PENDING, Acknowledge_Sent: OK]\n",
      "Command history update: /TEST/PUS_TC [Acknowledge_Queued: OK, Verifier_Accepted: PENDING, Verifier_Started: PENDING, Verifier_Complete: PENDING, Acknowledge_Sent: OK, Acknowledge_Released: OK]\n",
      "Command history update: /TEST/PUS_TC [Acknowledge_Queued: OK, Verifier_Accepted: PENDING, Verifier_Started: PENDING, Verifier_Complete: PENDING, Acknowledge_Sent: OK, Acknowledge_Released: OK, Acknowledge_Sent_YGW: NOK]\n"
     ]
    },
    {
     "data": {
      "text/plain": [
       "<yamcs.tmtc.model.IssuedCommand at 0x7936b3f24b30>"
      ]
     },
     "execution_count": 9,
     "metadata": {},
     "output_type": "execute_result"
    }
   ],
   "source": [
    "proc.issue_command_yamcs(apid=\"Mission A\", tc_type=20, tc_stype=1, ackflags=15,tc_args={\"ENPD0001\":1,\"ENPD0056\":\"TmCoApMiObAPu\"}, monitor=False)"
   ]
  },
  {
   "cell_type": "code",
   "execution_count": null,
   "metadata": {},
   "outputs": [],
   "source": []
  }
 ],
 "metadata": {
  "kernelspec": {
   "display_name": "default",
   "language": "python",
   "name": "python3"
  },
  "language_info": {
   "codemirror_mode": {
    "name": "ipython",
    "version": 3
   },
   "file_extension": ".py",
   "mimetype": "text/x-python",
   "name": "python",
   "nbconvert_exporter": "python",
   "pygments_lexer": "ipython3",
   "version": "3.12.6"
  }
 },
 "nbformat": 4,
 "nbformat_minor": 2
}

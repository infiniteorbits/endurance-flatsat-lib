{
 "cells": [
  {
   "cell_type": "code",
   "execution_count": null,
   "metadata": {},
   "outputs": [],
   "source": [
    "from yamcs_flatsat_utils.yamcs_interface import YamcsInterface"
   ]
  },
  {
   "cell_type": "code",
   "execution_count": null,
   "metadata": {},
   "outputs": [],
   "source": [
    "from yamcs_flatsat_utils.command_processor import CommandProcessor"
   ]
  },
  {
   "cell_type": "markdown",
   "metadata": {},
   "source": [
    "# Test Library"
   ]
  },
  {
   "cell_type": "markdown",
   "metadata": {},
   "source": [
    "## Objectives\n",
    "\n",
    "Test that the ground can send a TC to all computers:\n",
    "    - Active Mission Computer\n",
    "    - Standby Mission Computer\n",
    "    - Active ADCS Computer\n",
    "    - Standby ADCS Computer\n",
    "    - Active GNC Computer\n",
    "    - Standby GNC Computer\n",
    "    - Test that all computers can send a TM (realtime) to the ground.\n",
    "    - Test that all computers can send a TM (deferred) to the ground.\n",
    "    - Test the procedures put in place to send TC / receive TM when there is an issue of known and unknown origins."
   ]
  },
  {
   "cell_type": "code",
   "execution_count": null,
   "metadata": {},
   "outputs": [],
   "source": [
    "interface = YamcsInterface()"
   ]
  },
  {
   "cell_type": "code",
   "execution_count": null,
   "metadata": {},
   "outputs": [],
   "source": [
    "proc = CommandProcessor(interface)"
   ]
  },
  {
   "cell_type": "markdown",
   "metadata": {},
   "source": [
    "## Send TM[20,1]"
   ]
  },
  {
   "cell_type": "code",
   "execution_count": null,
   "metadata": {},
   "outputs": [],
   "source": [
    "proc.issue_command_yamcs(\n",
    "    apid=\"Mission A\",\n",
    "    tc_type=20,\n",
    "    tc_stype=1,\n",
    "    ackflags=15,\n",
    "    tc_args={\"ENPD0001\": 1, \"ENPD0056\": \"TmCoApMiObAPu\"},\n",
    "    monitor=False,\n",
    ")"
   ]
  },
  {
   "cell_type": "code",
   "execution_count": null,
   "metadata": {},
   "outputs": [],
   "source": []
  }
 ],
 "metadata": {
  "kernelspec": {
   "display_name": "default",
   "language": "python",
   "name": "python3"
  },
  "language_info": {
   "codemirror_mode": {
    "name": "ipython",
    "version": 3
   },
   "file_extension": ".py",
   "mimetype": "text/x-python",
   "name": "python",
   "nbconvert_exporter": "python",
   "pygments_lexer": "ipython3",
   "version": "3.12.6"
  }
 },
 "nbformat": 4,
 "nbformat_minor": 2
}
